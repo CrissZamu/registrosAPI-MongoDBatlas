{
 "cells": [
  {
   "cell_type": "code",
   "execution_count": 2,
   "metadata": {},
   "outputs": [],
   "source": [
    "import requests\n",
    "import math"
   ]
  },
  {
   "cell_type": "code",
   "execution_count": 16,
   "metadata": {},
   "outputs": [],
   "source": [
    "def obtener_coordenadas(ubicacion):\n",
    "    url = f\"https://nominatim.openstreetmap.org/search?q={ubicacion}&format=json\"\n",
    "    response = requests.get(url)\n",
    "    data = response.json()\n",
    "    \n",
    "    if data:\n",
    "        latitud = data[0]['lat']\n",
    "        longitud = data[0]['lon']\n",
    "        return float(latitud), float(longitud)\n",
    "    else:\n",
    "        return None"
   ]
  },
  {
   "cell_type": "code",
   "execution_count": 22,
   "metadata": {},
   "outputs": [],
   "source": [
    "ubicacion = \"barranquilla\"\n",
    "latitud, longitud = obtener_coordenadas(ubicacion)"
   ]
  },
  {
   "cell_type": "code",
   "execution_count": 23,
   "metadata": {},
   "outputs": [
    {
     "data": {
      "text/plain": [
       "10.9938698"
      ]
     },
     "execution_count": 23,
     "metadata": {},
     "output_type": "execute_result"
    }
   ],
   "source": [
    "latitud"
   ]
  },
  {
   "cell_type": "code",
   "execution_count": 24,
   "metadata": {},
   "outputs": [
    {
     "data": {
      "text/plain": [
       "-74.7927177"
      ]
     },
     "execution_count": 24,
     "metadata": {},
     "output_type": "execute_result"
    }
   ],
   "source": [
    "longitud"
   ]
  },
  {
   "cell_type": "code",
   "execution_count": 26,
   "metadata": {},
   "outputs": [],
   "source": [
    "\n",
    "\n",
    "def distancia_entre_puntos(lat1, lon1, lat2, lon2):\n",
    "    \"\"\"\n",
    "    Calcula la distancia en kilómetros entre dos puntos dadas sus latitudes y longitudes\n",
    "    utilizando la fórmula de Haversine.\n",
    "    \"\"\"\n",
    "    radio_tierra_km = 6371.01\n",
    "    \n",
    "    # Convertir las latitudes y longitudes a radianes\n",
    "    lat1_r = math.radians(lat1)\n",
    "    lon1_r = math.radians(lon1)\n",
    "    lat2_r = math.radians(lat2)\n",
    "    lon2_r = math.radians(lon2)\n",
    "    \n",
    "    # Calcular la diferencia de latitudes y longitudes\n",
    "    d_lat = lat2_r - lat1_r\n",
    "    d_lon = lon2_r - lon1_r\n",
    "    \n",
    "    # Aplicar la fórmula de Haversine\n",
    "    a = math.sin(d_lat / 2)**2 + math.cos(lat1_r) * math.cos(lat2_r) * math.sin(d_lon / 2)**2\n",
    "    c = 2 * math.atan2(math.sqrt(a), math.sqrt(1 - a))\n",
    "    distancia_km = radio_tierra_km * c\n",
    "    \n",
    "    return distancia_km"
   ]
  },
  {
   "cell_type": "code",
   "execution_count": 28,
   "metadata": {},
   "outputs": [],
   "source": [
    "distancia = distancia_entre_puntos(36.8, 137.1, 37.4, 137.3)"
   ]
  },
  {
   "cell_type": "code",
   "execution_count": 29,
   "metadata": {},
   "outputs": [
    {
     "name": "stdout",
     "output_type": "stream",
     "text": [
      "69.03460467853262\n"
     ]
    }
   ],
   "source": [
    "print(distancia)"
   ]
  }
 ],
 "metadata": {
  "kernelspec": {
   "display_name": "Python 3",
   "language": "python",
   "name": "python3"
  },
  "language_info": {
   "codemirror_mode": {
    "name": "ipython",
    "version": 3
   },
   "file_extension": ".py",
   "mimetype": "text/x-python",
   "name": "python",
   "nbconvert_exporter": "python",
   "pygments_lexer": "ipython3",
   "version": "3.9.0"
  },
  "orig_nbformat": 4
 },
 "nbformat": 4,
 "nbformat_minor": 2
}
